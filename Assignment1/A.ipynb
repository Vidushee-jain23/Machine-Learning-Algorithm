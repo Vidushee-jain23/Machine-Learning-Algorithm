{
  "cells": [
    {
      "attachments": {},
      "cell_type": "markdown",
      "metadata": {
        "id": "lOS_atqe2I4B"
      },
      "source": [
        "### Topic A: Model Selection(Complexity Control)"
      ]
    },
    {
      "cell_type": "code",
      "execution_count": 1,
      "metadata": {
        "colab": {
          "base_uri": "https://localhost:8080/",
          "height": 424
        },
        "id": "SJqyrMxhxBud",
        "outputId": "7d5eca18-9435-43e9-ef43-93e16caac485"
      },
      "outputs": [
        {
          "data": {
            "text/html": [
              "<div>\n",
              "<style scoped>\n",
              "    .dataframe tbody tr th:only-of-type {\n",
              "        vertical-align: middle;\n",
              "    }\n",
              "\n",
              "    .dataframe tbody tr th {\n",
              "        vertical-align: top;\n",
              "    }\n",
              "\n",
              "    .dataframe thead th {\n",
              "        text-align: right;\n",
              "    }\n",
              "</style>\n",
              "<table border=\"1\" class=\"dataframe\">\n",
              "  <thead>\n",
              "    <tr style=\"text-align: right;\">\n",
              "      <th></th>\n",
              "      <th>age_at_operation</th>\n",
              "      <th>year_of_operation</th>\n",
              "      <th>no_of_pos_aux_nodes</th>\n",
              "      <th>survival_status</th>\n",
              "    </tr>\n",
              "  </thead>\n",
              "  <tbody>\n",
              "    <tr>\n",
              "      <th>0</th>\n",
              "      <td>30</td>\n",
              "      <td>64</td>\n",
              "      <td>1</td>\n",
              "      <td>1</td>\n",
              "    </tr>\n",
              "    <tr>\n",
              "      <th>1</th>\n",
              "      <td>30</td>\n",
              "      <td>62</td>\n",
              "      <td>3</td>\n",
              "      <td>1</td>\n",
              "    </tr>\n",
              "    <tr>\n",
              "      <th>2</th>\n",
              "      <td>30</td>\n",
              "      <td>65</td>\n",
              "      <td>0</td>\n",
              "      <td>1</td>\n",
              "    </tr>\n",
              "    <tr>\n",
              "      <th>3</th>\n",
              "      <td>31</td>\n",
              "      <td>59</td>\n",
              "      <td>2</td>\n",
              "      <td>1</td>\n",
              "    </tr>\n",
              "    <tr>\n",
              "      <th>4</th>\n",
              "      <td>31</td>\n",
              "      <td>65</td>\n",
              "      <td>4</td>\n",
              "      <td>1</td>\n",
              "    </tr>\n",
              "    <tr>\n",
              "      <th>...</th>\n",
              "      <td>...</td>\n",
              "      <td>...</td>\n",
              "      <td>...</td>\n",
              "      <td>...</td>\n",
              "    </tr>\n",
              "    <tr>\n",
              "      <th>301</th>\n",
              "      <td>75</td>\n",
              "      <td>62</td>\n",
              "      <td>1</td>\n",
              "      <td>1</td>\n",
              "    </tr>\n",
              "    <tr>\n",
              "      <th>302</th>\n",
              "      <td>76</td>\n",
              "      <td>67</td>\n",
              "      <td>0</td>\n",
              "      <td>1</td>\n",
              "    </tr>\n",
              "    <tr>\n",
              "      <th>303</th>\n",
              "      <td>77</td>\n",
              "      <td>65</td>\n",
              "      <td>3</td>\n",
              "      <td>1</td>\n",
              "    </tr>\n",
              "    <tr>\n",
              "      <th>304</th>\n",
              "      <td>78</td>\n",
              "      <td>65</td>\n",
              "      <td>1</td>\n",
              "      <td>2</td>\n",
              "    </tr>\n",
              "    <tr>\n",
              "      <th>305</th>\n",
              "      <td>83</td>\n",
              "      <td>58</td>\n",
              "      <td>2</td>\n",
              "      <td>2</td>\n",
              "    </tr>\n",
              "  </tbody>\n",
              "</table>\n",
              "<p>306 rows × 4 columns</p>\n",
              "</div>"
            ],
            "text/plain": [
              "     age_at_operation  year_of_operation  no_of_pos_aux_nodes  survival_status\n",
              "0                  30                 64                    1                1\n",
              "1                  30                 62                    3                1\n",
              "2                  30                 65                    0                1\n",
              "3                  31                 59                    2                1\n",
              "4                  31                 65                    4                1\n",
              "..                ...                ...                  ...              ...\n",
              "301                75                 62                    1                1\n",
              "302                76                 67                    0                1\n",
              "303                77                 65                    3                1\n",
              "304                78                 65                    1                2\n",
              "305                83                 58                    2                2\n",
              "\n",
              "[306 rows x 4 columns]"
            ]
          },
          "execution_count": 1,
          "metadata": {},
          "output_type": "execute_result"
        }
      ],
      "source": [
        "import numpy as np\n",
        "import pandas as pd\n",
        "\n",
        "#read the file of haberman.data \n",
        "df = pd.read_csv('haberman.data', header=None,\n",
        "names=[\"age_at_operation\", \"year_of_operation\", \"no_of_pos_aux_nodes\", \"survival_status\"])\n",
        "\n",
        "#displaying the data \n",
        "df"
      ]
    },
    {
      "cell_type": "code",
      "execution_count": 2,
      "metadata": {
        "colab": {
          "base_uri": "https://localhost:8080/",
          "height": 424
        },
        "id": "ApREGDzehGMC",
        "outputId": "dab6ee03-eee9-409b-cab5-96b0e78e7a65"
      },
      "outputs": [
        {
          "data": {
            "text/html": [
              "<div>\n",
              "<style scoped>\n",
              "    .dataframe tbody tr th:only-of-type {\n",
              "        vertical-align: middle;\n",
              "    }\n",
              "\n",
              "    .dataframe tbody tr th {\n",
              "        vertical-align: top;\n",
              "    }\n",
              "\n",
              "    .dataframe thead th {\n",
              "        text-align: right;\n",
              "    }\n",
              "</style>\n",
              "<table border=\"1\" class=\"dataframe\">\n",
              "  <thead>\n",
              "    <tr style=\"text-align: right;\">\n",
              "      <th></th>\n",
              "      <th>age_at_operation</th>\n",
              "      <th>no_of_pos_aux_nodes</th>\n",
              "      <th>survival_status</th>\n",
              "    </tr>\n",
              "  </thead>\n",
              "  <tbody>\n",
              "    <tr>\n",
              "      <th>0</th>\n",
              "      <td>30</td>\n",
              "      <td>1</td>\n",
              "      <td>1</td>\n",
              "    </tr>\n",
              "    <tr>\n",
              "      <th>1</th>\n",
              "      <td>30</td>\n",
              "      <td>3</td>\n",
              "      <td>1</td>\n",
              "    </tr>\n",
              "    <tr>\n",
              "      <th>2</th>\n",
              "      <td>30</td>\n",
              "      <td>0</td>\n",
              "      <td>1</td>\n",
              "    </tr>\n",
              "    <tr>\n",
              "      <th>3</th>\n",
              "      <td>31</td>\n",
              "      <td>2</td>\n",
              "      <td>1</td>\n",
              "    </tr>\n",
              "    <tr>\n",
              "      <th>4</th>\n",
              "      <td>31</td>\n",
              "      <td>4</td>\n",
              "      <td>1</td>\n",
              "    </tr>\n",
              "    <tr>\n",
              "      <th>...</th>\n",
              "      <td>...</td>\n",
              "      <td>...</td>\n",
              "      <td>...</td>\n",
              "    </tr>\n",
              "    <tr>\n",
              "      <th>301</th>\n",
              "      <td>75</td>\n",
              "      <td>1</td>\n",
              "      <td>1</td>\n",
              "    </tr>\n",
              "    <tr>\n",
              "      <th>302</th>\n",
              "      <td>76</td>\n",
              "      <td>0</td>\n",
              "      <td>1</td>\n",
              "    </tr>\n",
              "    <tr>\n",
              "      <th>303</th>\n",
              "      <td>77</td>\n",
              "      <td>3</td>\n",
              "      <td>1</td>\n",
              "    </tr>\n",
              "    <tr>\n",
              "      <th>304</th>\n",
              "      <td>78</td>\n",
              "      <td>1</td>\n",
              "      <td>2</td>\n",
              "    </tr>\n",
              "    <tr>\n",
              "      <th>305</th>\n",
              "      <td>83</td>\n",
              "      <td>2</td>\n",
              "      <td>2</td>\n",
              "    </tr>\n",
              "  </tbody>\n",
              "</table>\n",
              "<p>306 rows × 3 columns</p>\n",
              "</div>"
            ],
            "text/plain": [
              "     age_at_operation  no_of_pos_aux_nodes  survival_status\n",
              "0                  30                    1                1\n",
              "1                  30                    3                1\n",
              "2                  30                    0                1\n",
              "3                  31                    2                1\n",
              "4                  31                    4                1\n",
              "..                ...                  ...              ...\n",
              "301                75                    1                1\n",
              "302                76                    0                1\n",
              "303                77                    3                1\n",
              "304                78                    1                2\n",
              "305                83                    2                2\n",
              "\n",
              "[306 rows x 3 columns]"
            ]
          },
          "execution_count": 2,
          "metadata": {},
          "output_type": "execute_result"
        }
      ],
      "source": [
        "#droping column \n",
        "df = df.drop(\"year_of_operation\", axis=1)\n",
        "df"
      ]
    },
    {
      "attachments": {},
      "cell_type": "markdown",
      "metadata": {
        "id": "Hjg-KnGLwrNt"
      },
      "source": [
        "#### Preprocessing: Normalization "
      ]
    },
    {
      "cell_type": "code",
      "execution_count": 3,
      "metadata": {
        "colab": {
          "base_uri": "https://localhost:8080/",
          "height": 424
        },
        "id": "DZkEl08GGcvj",
        "outputId": "3ef0092f-c66a-4e99-ebea-03e16cd12f72"
      },
      "outputs": [
        {
          "data": {
            "text/html": [
              "<div>\n",
              "<style scoped>\n",
              "    .dataframe tbody tr th:only-of-type {\n",
              "        vertical-align: middle;\n",
              "    }\n",
              "\n",
              "    .dataframe tbody tr th {\n",
              "        vertical-align: top;\n",
              "    }\n",
              "\n",
              "    .dataframe thead th {\n",
              "        text-align: right;\n",
              "    }\n",
              "</style>\n",
              "<table border=\"1\" class=\"dataframe\">\n",
              "  <thead>\n",
              "    <tr style=\"text-align: right;\">\n",
              "      <th></th>\n",
              "      <th>age_at_operation</th>\n",
              "      <th>no_of_pos_aux_nodes</th>\n",
              "      <th>survival_status</th>\n",
              "    </tr>\n",
              "  </thead>\n",
              "  <tbody>\n",
              "    <tr>\n",
              "      <th>0</th>\n",
              "      <td>0.000000</td>\n",
              "      <td>0.019231</td>\n",
              "      <td>0.0</td>\n",
              "    </tr>\n",
              "    <tr>\n",
              "      <th>1</th>\n",
              "      <td>0.000000</td>\n",
              "      <td>0.057692</td>\n",
              "      <td>0.0</td>\n",
              "    </tr>\n",
              "    <tr>\n",
              "      <th>2</th>\n",
              "      <td>0.000000</td>\n",
              "      <td>0.000000</td>\n",
              "      <td>0.0</td>\n",
              "    </tr>\n",
              "    <tr>\n",
              "      <th>3</th>\n",
              "      <td>0.018868</td>\n",
              "      <td>0.038462</td>\n",
              "      <td>0.0</td>\n",
              "    </tr>\n",
              "    <tr>\n",
              "      <th>4</th>\n",
              "      <td>0.018868</td>\n",
              "      <td>0.076923</td>\n",
              "      <td>0.0</td>\n",
              "    </tr>\n",
              "    <tr>\n",
              "      <th>...</th>\n",
              "      <td>...</td>\n",
              "      <td>...</td>\n",
              "      <td>...</td>\n",
              "    </tr>\n",
              "    <tr>\n",
              "      <th>301</th>\n",
              "      <td>0.849057</td>\n",
              "      <td>0.019231</td>\n",
              "      <td>0.0</td>\n",
              "    </tr>\n",
              "    <tr>\n",
              "      <th>302</th>\n",
              "      <td>0.867925</td>\n",
              "      <td>0.000000</td>\n",
              "      <td>0.0</td>\n",
              "    </tr>\n",
              "    <tr>\n",
              "      <th>303</th>\n",
              "      <td>0.886792</td>\n",
              "      <td>0.057692</td>\n",
              "      <td>0.0</td>\n",
              "    </tr>\n",
              "    <tr>\n",
              "      <th>304</th>\n",
              "      <td>0.905660</td>\n",
              "      <td>0.019231</td>\n",
              "      <td>1.0</td>\n",
              "    </tr>\n",
              "    <tr>\n",
              "      <th>305</th>\n",
              "      <td>1.000000</td>\n",
              "      <td>0.038462</td>\n",
              "      <td>1.0</td>\n",
              "    </tr>\n",
              "  </tbody>\n",
              "</table>\n",
              "<p>306 rows × 3 columns</p>\n",
              "</div>"
            ],
            "text/plain": [
              "     age_at_operation  no_of_pos_aux_nodes  survival_status\n",
              "0            0.000000             0.019231              0.0\n",
              "1            0.000000             0.057692              0.0\n",
              "2            0.000000             0.000000              0.0\n",
              "3            0.018868             0.038462              0.0\n",
              "4            0.018868             0.076923              0.0\n",
              "..                ...                  ...              ...\n",
              "301          0.849057             0.019231              0.0\n",
              "302          0.867925             0.000000              0.0\n",
              "303          0.886792             0.057692              0.0\n",
              "304          0.905660             0.019231              1.0\n",
              "305          1.000000             0.038462              1.0\n",
              "\n",
              "[306 rows x 3 columns]"
            ]
          },
          "execution_count": 3,
          "metadata": {},
          "output_type": "execute_result"
        }
      ],
      "source": [
        "# min max sacler function to normalize the data i.e. to bring the data points in the range of 0 to 1.\n",
        "def min_max_scaler(df: pd.DataFrame):\n",
        "    for col, min, max in zip(df.columns, df.min(), df.max()):\n",
        "        df[col] = df[col].map(lambda x: (x - min)/(max - min))\n",
        "    return df\n",
        "\n",
        "scaled_df = min_max_scaler(df)\n",
        "scaled_df"
      ]
    },
    {
      "attachments": {},
      "cell_type": "markdown",
      "metadata": {
        "id": "JykVdTVB2-Uj"
      },
      "source": [
        "#### a.1 Method implementation"
      ]
    },
    {
      "cell_type": "code",
      "execution_count": 4,
      "metadata": {
        "id": "poFLy7413OBD"
      },
      "outputs": [],
      "source": [
        "#KNN implementation: euclidean distance is imported\n",
        "from scipy.spatial.distance import euclidean\n",
        "import random\n",
        "\n",
        "#all datapoints are taken. K and new datapoint is entered by the user\n",
        "def KNN(dataframe: pd.DataFrame, K: int, new_datapoint: pd.Series) -> float:\n",
        "    KNN_indices = dataframe.reset_index(drop=True).drop(\"survival_status\", axis=1).apply(lambda row: euclidean(row, new_datapoint), axis=1).sort_values()[:K].index\n",
        "\n",
        "    #frequency to store the frequency to store the vale of datapoints havins survival status = 0 in freq[0] and survival status = 0 in freq[1]    \n",
        "    freq = [0, 0]\n",
        "    for i in KNN_indices:\n",
        "        if dataframe.iloc[i][\"survival_status\"] == 0.0:\n",
        "            freq[0] += 1\n",
        "        else:\n",
        "            freq[1] += 1\n",
        "\n",
        "    #if freq of both is equal     \n",
        "    if freq[0] == freq[1]:\n",
        "        return random.choice(0.0, 1.0)\n",
        "    #if freq[0] > freq[1] then we will return 0 (class 0) otherwise we will return 1(class 1)\n",
        "    if freq[0] > freq[1]:\n",
        "        return 0.0\n",
        "    else:\n",
        "        return 1.0"
      ]
    },
    {
      "attachments": {},
      "cell_type": "markdown",
      "metadata": {
        "id": "xwFSQ0pA5Hy7"
      },
      "source": [
        "#### a.2 Model Selection"
      ]
    },
    {
      "attachments": {},
      "cell_type": "markdown",
      "metadata": {
        "id": "KEoAPzH5EFNm"
      },
      "source": [
        "##### LOO validation"
      ]
    },
    {
      "cell_type": "code",
      "execution_count": 5,
      "metadata": {
        "id": "KmPZiN0943I2"
      },
      "outputs": [],
      "source": [
        "#leave one out cross validation\n",
        "def LOO(dataframe):\n",
        "    #droping the column of survival status\n",
        "    unlabelled_df = dataframe.drop(\"survival_status\", axis=1)\n",
        "    #Empty list to store the error\n",
        "    error = []\n",
        "\n",
        "    #Loop for k = 1,3,...99\n",
        "    for K in range(1, min(100, dataframe.shape[0]), 2):\n",
        "        #creating a list of actual values of survival status\n",
        "        actual_values = [i for i in dataframe[\"survival_status\"]]\n",
        "        \n",
        "        #list for predicted values\n",
        "        predicted_values = [None for _ in actual_values]\n",
        "        \n",
        "        # Loop for each row \n",
        "        for i in range(dataframe.shape[0]):\n",
        "            #In leave one out, one row is leaved so leaving ith row and including all other rows\n",
        "            local_df = dataframe.drop(i, axis=0)\n",
        "            \n",
        "            #Using KNN function predicted the value for ith row\n",
        "            predicted_values[i] = KNN(local_df, K, unlabelled_df.iloc[i])\n",
        "        \n",
        "        #calculated error for predicted value and actual value using mean square error\n",
        "        MSE = sum([abs(a - p) for a, p in zip(actual_values, predicted_values)])/local_df.shape[0]\n",
        "        \n",
        "        #Now appending the k value and corresponding mse\n",
        "        error.append([K, MSE])\n",
        "\n",
        "    # Return a dataframe of the error values for each K value.\n",
        "    return pd.DataFrame(error, columns=[\"K\", \"error\"])\n",
        "\n",
        "#error value   \n",
        "cross_val_err = LOO(scaled_df)"
      ]
    },
    {
      "cell_type": "code",
      "execution_count": 15,
      "metadata": {
        "colab": {
          "base_uri": "https://localhost:8080/",
          "height": 282
        },
        "id": "r0x39T8vjEKb",
        "outputId": "45af4147-506e-459e-af19-7f60988eca05"
      },
      "outputs": [
        {
          "data": {
            "text/plain": [
              "[<matplotlib.lines.Line2D at 0x20a9621af40>]"
            ]
          },
          "execution_count": 15,
          "metadata": {},
          "output_type": "execute_result"
        },
        {
          "data": {
            "image/png": "[encoded data removed]",
            "text/plain": [
              "<Figure size 500x400 with 1 Axes>"
            ]
          },
          "metadata": {},
          "output_type": "display_data"
        }
      ],
      "source": [
        "#ploting the graph \n",
        "import matplotlib.pyplot as plt\n",
        "\n",
        "# set figure size\n",
        "plt.figure(figsize = (5,4))\n",
        "\n",
        "# set ticks for x-axis\n",
        "plt.xticks(list(range(1, 100, 5)))\n",
        "\n",
        "# display the plot\n",
        "plt.plot(cross_val_err[\"K\"], cross_val_err[\"error\"])\n"
      ]
    },
    {
      "attachments": {},
      "cell_type": "markdown",
      "metadata": {
        "id": "0Mu8-u5T-f-H"
      },
      "source": [
        "##### Finding optimal K value"
      ]
    },
    {
      "cell_type": "code",
      "execution_count": 7,
      "metadata": {
        "colab": {
          "base_uri": "https://localhost:8080/"
        },
        "id": "FlOkGdzz-fdM",
        "outputId": "4fa0746f-d02b-42fa-9ce9-7b919aebbe7f"
      },
      "outputs": [
        {
          "name": "stdout",
          "output_type": "stream",
          "text": [
            "Optimal value of K: 47\n",
            "Error with the optimal value : 0.2262295081967213\n"
          ]
        }
      ],
      "source": [
        "# finding the row with the minimum error\n",
        "optimal_K_row = cross_val_err.iloc[cross_val_err[\"error\"].idxmin()]\n",
        "\n",
        "# finding the optimal value of K from the row\n",
        "optimal_K = int(optimal_K_row[\"K\"])\n",
        "\n",
        "# finding the optimal error value from the row\n",
        "optimal_err = optimal_K_row[\"error\"]\n",
        "\n",
        "# Printing the optimal value of K and the corresponding error value\n",
        "print(\"Optimal value of K:\", optimal_K)\n",
        "print(\"Error with the optimal value :\", optimal_err)\n"
      ]
    },
    {
      "attachments": {},
      "cell_type": "markdown",
      "metadata": {
        "id": "alNxuyPX4-E7"
      },
      "source": [
        "#### Decision Boundary\n",
        "Classifying points spread all over the 2d area to visualize the decision boundary"
      ]
    },
    {
      "cell_type": "code",
      "execution_count": 8,
      "metadata": {
        "colab": {
          "base_uri": "https://localhost:8080/",
          "height": 499
        },
        "id": "eyNGbl0Bg7EG",
        "outputId": "6116e34c-163c-4df5-a12f-31f4f0f2ff05"
      },
      "outputs": [
        {
          "data": {
            "image/png": "[encoded data removed]",
            "text/plain": [
              "<Figure size 800x800 with 1 Axes>"
            ]
          },
          "metadata": {},
          "output_type": "display_data"
        }
      ],
      "source": [
        "#Empty list to store the points\n",
        "points = []\n",
        "\n",
        "# dimension of grid\n",
        "dim = 50\n",
        "\n",
        "# Iterating over each point in the grid\n",
        "for i in range(dim+1):\n",
        "    for j in range(dim+1):\n",
        "        # Usint the knn func predicting the class\n",
        "        points.append([i/dim, j/dim, KNN(scaled_df, optimal_K, [i/30, j/30])])\n",
        "\n",
        "# Convert the list of points to a Pandas DataFrame\n",
        "points = pd.DataFrame(points, columns=['x', 'y', 'class'])\n",
        "\n",
        "# Grouping the points by their class label\n",
        "grouped_points = [i for _, i in points.groupby(\"class\", sort=False)]\n",
        "\n",
        "# Set the size of the plot\n",
        "plt.rcParams[\"figure.figsize\"] = (8, 8)\n",
        "\n",
        "# Plot each group of points with a different color and marker size\n",
        "for pts, color in zip([i for i in grouped_points], [\"#FCF813\", \"#13C7FC\"]):\n",
        "    # Get the class label of the points\n",
        "    cls = pts.iloc[0][\"class\"]\n",
        "    # Plot the points with the specified color and marker size\n",
        "    plt.scatter(pts[\"x\"], pts[\"y\"], c=color, s=12.0, label=cls)\n",
        "    \n",
        "# Set the title of the plot and add a legend\n",
        "plt.title(\"Decision Boundary\")\n",
        "plt.legend(loc='upper right')\n",
        "\n",
        "# Display the plot\n",
        "plt.show()\n"
      ]
    },
    {
      "attachments": {},
      "cell_type": "markdown",
      "metadata": {
        "id": "VfuUHdrr5X4J"
      },
      "source": [
        "#### a.3 Prediction accuracy of a learning method"
      ]
    },
    {
      "cell_type": "markdown",
      "metadata": {
        "id": "KhsaTJg1_FoG"
      },
      "source": [
        "Creating the folds"
      ]
    },
    {
      "cell_type": "code",
      "execution_count": 9,
      "metadata": {
        "id": "Dz6bBX-f5elo"
      },
      "outputs": [],
      "source": [
        "#sorting according to age at operation\n",
        "sorted_df = scaled_df.sort_values(\"age_at_operation\")\n",
        "\n",
        "folds = [pd.DataFrame(sorted_df.iloc[i::5]).reset_index(drop=True) for i in range(5)]"
      ]
    },
    {
      "attachments": {},
      "cell_type": "markdown",
      "metadata": {
        "id": "lRzEkNbT_H4G"
      },
      "source": [
        "Finding the optimal k for each fold using Leave One Out Validation"
      ]
    },
    {
      "cell_type": "code",
      "execution_count": 10,
      "metadata": {
        "id": "8YBvHluvuwEp"
      },
      "outputs": [],
      "source": [
        "# Computing leave one out error for each fold\n",
        "cross_val_errs = [LOO(i) for i in folds]\n",
        "\n",
        "# Identify the row with the optimal error for each fold\n",
        "optimal_K_rows = [i.iloc[i[\"error\"].idxmin()] for i in cross_val_errs]\n",
        "\n",
        "# Extract the optimal K value for each fold\n",
        "optimal_Ks = [int(i[\"K\"]) for i in optimal_K_rows]\n",
        "\n",
        "# Extract the LOO error for each fold using the optimal K value\n",
        "loo_val_errs = [i[\"error\"] for i in optimal_K_rows]\n"
      ]
    },
    {
      "attachments": {},
      "cell_type": "markdown",
      "metadata": {
        "id": "Ih0OfZtK_Z-u"
      },
      "source": [
        "Calculating test error"
      ]
    },
    {
      "cell_type": "code",
      "execution_count": 11,
      "metadata": {
        "id": "8lGQqRNrldz-"
      },
      "outputs": [],
      "source": [
        "# This function is used to calculate the mean squared error (MSE) for the test set\n",
        "def test(train: pd.DataFrame, test: list, K: int):\n",
        "    # Concatenate all the test folds into a single dataframe\n",
        "    test = pd.concat(test, ignore_index=True)\n",
        "    # Drop the \"survival_status\" column from the test set\n",
        "    test_df = test.drop(\"survival_status\", axis=1)\n",
        "    # The training set is already passed as an argument\n",
        "    train_df = train\n",
        "    # Create a list of actual values for the test set\n",
        "    actual_values = [i for i in test[\"survival_status\"]]\n",
        "    # Create a list of predicted values for the test set using KNN algorithm\n",
        "    predicted_values = [KNN(train_df, K, i) for _, i in test_df.iterrows()]\n",
        "    # Calculate the mean squared error (MSE) between actual and predicted values\n",
        "    MSE = sum([abs(a - p) for a, p in zip(actual_values, predicted_values)])/test_df.shape[0]\n",
        "    return MSE\n",
        "\n",
        "# This list comprehension is used to calculate the estimated test errors for each fold\n",
        "est_test_errs = [test(folds[i], [folds[j] for j in range(5) if j != i], optimal_Ks[i]) for i in range(5)]\n"
      ]
    },
    {
      "cell_type": "code",
      "execution_count": 12,
      "metadata": {
        "colab": {
          "base_uri": "https://localhost:8080/",
          "height": 206
        },
        "id": "T2BtORf2mjLO",
        "outputId": "830a0750-2bd6-4c66-8049-5ef8c8fb7133"
      },
      "outputs": [
        {
          "data": {
            "text/html": [
              "<div>\n",
              "<style scoped>\n",
              "    .dataframe tbody tr th:only-of-type {\n",
              "        vertical-align: middle;\n",
              "    }\n",
              "\n",
              "    .dataframe tbody tr th {\n",
              "        vertical-align: top;\n",
              "    }\n",
              "\n",
              "    .dataframe thead th {\n",
              "        text-align: right;\n",
              "    }\n",
              "</style>\n",
              "<table border=\"1\" class=\"dataframe\">\n",
              "  <thead>\n",
              "    <tr style=\"text-align: right;\">\n",
              "      <th></th>\n",
              "      <th>Fold number</th>\n",
              "      <th>Optimal value of K</th>\n",
              "      <th>LOO validation error</th>\n",
              "      <th>Estimated test error</th>\n",
              "    </tr>\n",
              "  </thead>\n",
              "  <tbody>\n",
              "    <tr>\n",
              "      <th>0</th>\n",
              "      <td>1</td>\n",
              "      <td>11</td>\n",
              "      <td>0.245902</td>\n",
              "      <td>0.245902</td>\n",
              "    </tr>\n",
              "    <tr>\n",
              "      <th>1</th>\n",
              "      <td>2</td>\n",
              "      <td>11</td>\n",
              "      <td>0.300000</td>\n",
              "      <td>0.236735</td>\n",
              "    </tr>\n",
              "    <tr>\n",
              "      <th>2</th>\n",
              "      <td>3</td>\n",
              "      <td>5</td>\n",
              "      <td>0.150000</td>\n",
              "      <td>0.261224</td>\n",
              "    </tr>\n",
              "    <tr>\n",
              "      <th>3</th>\n",
              "      <td>4</td>\n",
              "      <td>1</td>\n",
              "      <td>0.283333</td>\n",
              "      <td>0.326531</td>\n",
              "    </tr>\n",
              "    <tr>\n",
              "      <th>4</th>\n",
              "      <td>5</td>\n",
              "      <td>9</td>\n",
              "      <td>0.233333</td>\n",
              "      <td>0.273469</td>\n",
              "    </tr>\n",
              "  </tbody>\n",
              "</table>\n",
              "</div>"
            ],
            "text/plain": [
              "   Fold number  Optimal value of K  LOO validation error  Estimated test error\n",
              "0            1                  11              0.245902              0.245902\n",
              "1            2                  11              0.300000              0.236735\n",
              "2            3                   5              0.150000              0.261224\n",
              "3            4                   1              0.283333              0.326531\n",
              "4            5                   9              0.233333              0.273469"
            ]
          },
          "execution_count": 12,
          "metadata": {},
          "output_type": "execute_result"
        }
      ],
      "source": [
        "pd.DataFrame({\n",
        "    \"Fold number\": [1, 2, 3, 4, 5],\n",
        "    \"Optimal value of K\": optimal_Ks,\n",
        "    \"LOO validation error\": loo_val_errs,\n",
        "    \"Estimated test error\": est_test_errs\n",
        "})"
      ]
    },
    {
      "cell_type": "code",
      "execution_count": 13,
      "metadata": {
        "colab": {
          "base_uri": "https://localhost:8080/"
        },
        "id": "yWF6X2LH1WJ_",
        "outputId": "400b9feb-952a-4e6a-dec2-138ff2b9c2b2"
      },
      "outputs": [
        {
          "name": "stdout",
          "output_type": "stream",
          "text": [
            "Average LOO cross validation error: 0.2425136612021858\n",
            "True test error: 0.2687721646035463\n",
            "Optimal K (from a.2 ) error: 0.2262295081967213\n"
          ]
        }
      ],
      "source": [
        "avg_test_err = sum(est_test_errs)/5\n",
        "avg_loo_val_err = sum(loo_val_errs)/5\n",
        "print(\"Average LOO cross validation error:\", avg_loo_val_err)\n",
        "print(\"True test error:\", avg_test_err)\n",
        "print(\"Optimal K (from a.2 ) error:\", optimal_err)"
      ]
    },
    {
      "cell_type": "code",
      "execution_count": 14,
      "metadata": {
        "colab": {
          "base_uri": "https://localhost:8080/"
        },
        "id": "FkHhEKD1Ia6J",
        "outputId": "71518161-e836-48f2-d547-046562c9116e"
      },
      "outputs": [
        {
          "name": "stdout",
          "output_type": "stream",
          "text": [
            "The exact/true test error is 18.81% more than that of Optimal K error (from a.2 )\n"
          ]
        }
      ],
      "source": [
        "print(f'The exact/true test error is {100*(avg_test_err - optimal_err)/optimal_err:.2f}% more than that of Optimal K error (from a.2 )')"
      ]
    },
    {
      "attachments": {},
      "cell_type": "markdown",
      "metadata": {},
      "source": [
        "<br>\n",
        "End of Topic-A"
      ]
    }
  ],
  "metadata": {
    "colab": {
      "provenance": []
    },
    "kernelspec": {
      "display_name": "Python 3",
      "language": "python",
      "name": "python3"
    },
    "language_info": {
      "codemirror_mode": {
        "name": "ipython",
        "version": 3
      },
      "file_extension": ".py",
      "mimetype": "text/x-python",
      "name": "python",
      "nbconvert_exporter": "python",
      "pygments_lexer": "ipython3",
      "version": "3.9.6"
    },
    "vscode": {
      "interpreter": {
        "hash": "99d9306308c0bce91cc78b5a187effb9c0a38f1702efee60529ba7e72c8e65e1"
      }
    }
  },
  "nbformat": 4,
  "nbformat_minor": 0
}
